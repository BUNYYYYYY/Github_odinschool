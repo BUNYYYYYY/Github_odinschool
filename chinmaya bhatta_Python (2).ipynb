{
 "cells": [
  {
   "cell_type": "markdown",
   "id": "cd954f8a",
   "metadata": {},
   "source": [
    "# 1)a.To check whether a number is prime or not"
   ]
  },
  {
   "cell_type": "code",
   "execution_count": null,
   "id": "add1b897",
   "metadata": {},
   "outputs": [],
   "source": [
    "number = int(input(\"Enter any number: \"))# input number\n",
    "\n",
    "# prime number is always greater than 1\n",
    "def isprime(a):\n",
    "    if number > 1:\n",
    "        for i in range(2, number):\n",
    "            if (number % i) == 0: # checking prime number\n",
    "                print(number, \"is not a prime number\")\n",
    "                break\n",
    "        else:\n",
    "            print(number, \"is a prime number\")\n",
    "\n",
    "# if the entered number is less than or equal to 1\n",
    "# then it is not prime number\n",
    "    else:\n",
    "        print(number, \"is not a prime number\")\n",
    "print(isprime(number)) # print output       "
   ]
  },
  {
   "cell_type": "markdown",
   "id": "9e1d541d",
   "metadata": {},
   "source": [
    "# b. To find the longest word in a sentence given as input by the user"
   ]
  },
  {
   "cell_type": "code",
   "execution_count": 7,
   "id": "ad86cc4c",
   "metadata": {},
   "outputs": [
    {
     "name": "stdout",
     "output_type": "stream",
     "text": [
      "Enter sentence: iuhfue urfug fuygwuygd uhadjhbiuwehd uhhdoi iuuhua\n",
      "Longest word is:  uhadjhbiuwehd\n",
      "And its length is:  13\n"
     ]
    }
   ],
   "source": [
    "# Longest word\n",
    "\n",
    "# Reading sentence from user\n",
    "\n",
    "sentence = input(\"Enter sentence: \")\n",
    "\n",
    "# Finding longest word\n",
    "longest = max(sentence.split(), key=len)\n",
    "\n",
    "# Displaying longest word\n",
    "print(\"Longest word is: \", longest)\n",
    "print(\"And its length is: \", len(longest))"
   ]
  },
  {
   "cell_type": "markdown",
   "id": "305f1b65",
   "metadata": {},
   "source": [
    "# c. To find how many times a given user-inputted substring is repeated in another user inputted string"
   ]
  },
  {
   "cell_type": "code",
   "execution_count": 8,
   "id": "3b689c2b",
   "metadata": {},
   "outputs": [
    {
     "name": "stdout",
     "output_type": "stream",
     "text": [
      "4\n"
     ]
    }
   ],
   "source": [
    "# enter a string\n",
    "g = \"rferhfiuhxiuhfn8wehefy\"\n",
    "h = \"f\"\n",
    "\n",
    "def count_substring(a,b):#checking length of string\n",
    "    len1 = len(g)\n",
    "    len2 = len(h)\n",
    "    j =0\n",
    "    counter = 0\n",
    "    while(j < len1): #checking the repetition of sub string\n",
    "        if(g[j] == h[0]):\n",
    "            if(g[j:j+len2] == h):\n",
    "                counter += 1\n",
    "        j += 1\n",
    "\n",
    "    return counter\n",
    "print(count_substring(g, h))"
   ]
  },
  {
   "cell_type": "markdown",
   "id": "a21e827f",
   "metadata": {},
   "source": [
    "# 2."
   ]
  },
  {
   "cell_type": "markdown",
   "id": "2eb886ff",
   "metadata": {},
   "source": [
    "# Create the following class with the given attributes and methods;\n",
    "### Attributes: Std name, No of enrolled students, Overall GPA\n",
    "### Methods: getStd, getEnrolled, getOGPA\n",
    "### Students class with Standard as its super class  - \n",
    "### Attributes: Name,Roll No., Standard, Math marks, English Marks, Science Marks, Social Marks\n",
    "### Methods: getName, getRollNo, getStd, getGPA"
   ]
  },
  {
   "cell_type": "code",
   "execution_count": 45,
   "id": "a9ef8086",
   "metadata": {},
   "outputs": [
    {
     "name": "stdout",
     "output_type": "stream",
     "text": [
      "Enter the roll number: 87\n",
      "Enter the student name: gvh\n",
      "Enter student standard: 87\n",
      "Enter the math mark: 67\n",
      "Enter the english mark: 98\n",
      "Enter the scince mark: 78\n",
      "Enter the social mark: 78\n",
      "Roll Number is:  87\n",
      "Name is:  gvh\n",
      "Standardof the student  is:  87\n",
      "Marks are:  [67, 98, 78, 78]\n",
      "Average  Mark is:  80.25\n",
      "Percentage is: ,80.25%\n",
      "CGPA is:  8.447368421052632\n"
     ]
    },
    {
     "data": {
      "text/plain": [
       "8.447368421052632"
      ]
     },
     "execution_count": 45,
     "metadata": {},
     "output_type": "execute_result"
    }
   ],
   "source": [
    "#creating student class\n",
    "class Student:\n",
    "    marks = []\n",
    "    def getName(self, rn, name,standard, m1, m2, m3,m4):  #initializing information\n",
    "        Student.rn = rn\n",
    "        Student.name = name\n",
    "        Student.standard= standard\n",
    "        Student.marks.append(m1)\n",
    "        Student.marks.append(m2)\n",
    "        Student.marks.append(m3)\n",
    "        Student.marks.append(m4)\n",
    "        \n",
    "    def getEnrllod(self): # create function to contain information\n",
    "        print (\"Roll Number is: \", Student.rn)\n",
    "        print (\"Name is: \", Student.name)\n",
    "        print (\"Standardof the student  is: \", Student.standard)\n",
    "        print (\"Marks are: \", Student.marks)\n",
    "        print (\"Average  Mark is: \", self.average())\n",
    "        print (f\"Percentage is: ,{ self.percentage()}%\")\n",
    "        print (\"CGPA is: \", self.getOgpa())     \n",
    "        \n",
    "    def average(self): # calculating average value \n",
    "        return (Student.marks[0] + Student.marks[1] +Student.marks[2] +Student.marks[3])/4\n",
    "    \n",
    "    def percentage(self):# calculating percentage\n",
    "        global df\n",
    "        df=(Student.marks[0] + Student.marks[1] +Student.marks[2] +Student.marks[3] )/400*100\n",
    "        return df\n",
    "    \n",
    "    def getOgpa(self): # calculating CGPA\n",
    "        cgpa = (df/9.5) \n",
    "        return cgpa\n",
    "r = int (input(\"Enter the roll number: \")) # collecting student information\n",
    "name = input(\"Enter the student name: \")\n",
    "standard= input(\"Enter student standard: \")\n",
    "m1 = int (input(\"Enter the math mark: \"))\n",
    "m2 = int (input(\"Enter the english mark: \"))\n",
    "m3 = int (input(\"Enter the scince mark: \"))\n",
    "m4 = int (input(\"Enter the social mark: \"))\n",
    "\n",
    "s1 = Student() # execute function \n",
    "s1.getName(r, name,standard, m1, m2, m3, m4)\n",
    "s1.getEnrllod()\n",
    "s1.average()\n",
    "s1.percentage()\n",
    "s1.getOgpa()"
   ]
  },
  {
   "cell_type": "markdown",
   "id": "c45606ed",
   "metadata": {},
   "source": [
    "# 3) a. Create a function to find the indices of a parameter passed to the function in a user inputted array"
   ]
  },
  {
   "cell_type": "code",
   "execution_count": 52,
   "id": "aa418a6c",
   "metadata": {},
   "outputs": [
    {
     "name": "stdout",
     "output_type": "stream",
     "text": [
      "The index of p: 1\n"
     ]
    }
   ],
   "source": [
    "# inputed array\n",
    "vowels = ['a', 'e', 'i', 'o', 'u']\n",
    "\n",
    "# finding indices of a special charecter\n",
    "index = vowels.index('e')\n",
    "\n",
    "print('The index of p:', index)"
   ]
  },
  {
   "cell_type": "markdown",
   "id": "af25e734",
   "metadata": {},
   "source": [
    "# b. Create a random vector of size 30 and find the mean value"
   ]
  },
  {
   "cell_type": "code",
   "execution_count": 48,
   "id": "fd7c14b7",
   "metadata": {},
   "outputs": [
    {
     "name": "stdout",
     "output_type": "stream",
     "text": [
      "0.4782017768795423\n"
     ]
    }
   ],
   "source": [
    "import numpy as np\n",
    "Z = np.random.random(30)\n",
    "m = Z.mean()\n",
    "print (m)"
   ]
  },
  {
   "cell_type": "markdown",
   "id": "9b5dc1b3",
   "metadata": {},
   "source": [
    "# c. Create a 2d array with 1 on its edges and 0 in all other indices"
   ]
  },
  {
   "cell_type": "code",
   "execution_count": 49,
   "id": "7c311a9f",
   "metadata": {},
   "outputs": [
    {
     "name": "stdout",
     "output_type": "stream",
     "text": [
      "[[1. 1. 1. 1. 1. 1. 1. 1. 1. 1.]\n",
      " [1. 0. 0. 0. 0. 0. 0. 0. 0. 1.]\n",
      " [1. 0. 0. 0. 0. 0. 0. 0. 0. 1.]\n",
      " [1. 0. 0. 0. 0. 0. 0. 0. 0. 1.]\n",
      " [1. 0. 0. 0. 0. 0. 0. 0. 0. 1.]\n",
      " [1. 0. 0. 0. 0. 0. 0. 0. 0. 1.]\n",
      " [1. 0. 0. 0. 0. 0. 0. 0. 0. 1.]\n",
      " [1. 0. 0. 0. 0. 0. 0. 0. 0. 1.]\n",
      " [1. 0. 0. 0. 0. 0. 0. 0. 0. 1.]\n",
      " [1. 1. 1. 1. 1. 1. 1. 1. 1. 1.]]\n"
     ]
    }
   ],
   "source": [
    "Z = np.ones((10,10))\n",
    "Z[1:-1,1:-1]=0\n",
    "print(Z)"
   ]
  },
  {
   "cell_type": "markdown",
   "id": "2fe628f9",
   "metadata": {},
   "source": [
    "# d. Write a NumPy program to create a 8x8 matrix and fill it with a checkerboard pattern."
   ]
  },
  {
   "cell_type": "code",
   "execution_count": 50,
   "id": "3501de95",
   "metadata": {},
   "outputs": [
    {
     "name": "stdout",
     "output_type": "stream",
     "text": [
      "[[0 1 0 1 0 1 0 1]\n",
      " [1 0 1 0 1 0 1 0]\n",
      " [0 1 0 1 0 1 0 1]\n",
      " [1 0 1 0 1 0 1 0]\n",
      " [0 1 0 1 0 1 0 1]\n",
      " [1 0 1 0 1 0 1 0]\n",
      " [0 1 0 1 0 1 0 1]\n",
      " [1 0 1 0 1 0 1 0]]\n"
     ]
    }
   ],
   "source": [
    "Z = np.zeros ((8,8), dtype=int)\n",
    "Z[1::2, ::2]= 1\n",
    "Z[::2, 1::2] = 1\n",
    "print (Z)"
   ]
  },
  {
   "cell_type": "code",
   "execution_count": null,
   "id": "7fe8410c",
   "metadata": {},
   "outputs": [],
   "source": []
  }
 ],
 "metadata": {
  "kernelspec": {
   "display_name": "Python 3",
   "language": "python",
   "name": "python3"
  },
  "language_info": {
   "codemirror_mode": {
    "name": "ipython",
    "version": 3
   },
   "file_extension": ".py",
   "mimetype": "text/x-python",
   "name": "python",
   "nbconvert_exporter": "python",
   "pygments_lexer": "ipython3",
   "version": "3.8.8"
  }
 },
 "nbformat": 4,
 "nbformat_minor": 5
}
