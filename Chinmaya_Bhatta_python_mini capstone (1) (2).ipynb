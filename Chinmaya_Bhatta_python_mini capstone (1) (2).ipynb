{
 "cells": [
  {
   "cell_type": "markdown",
   "id": "1dbae745",
   "metadata": {},
   "source": [
    "# 1. This function takes one positive  integer ‘n’ as its parameter and prints out the multiplication table up until number 10 for all the numbers starting from the number 2  and till the integer ‘n’.\n",
    " "
   ]
  },
  {
   "cell_type": "code",
   "execution_count": 116,
   "id": "1a95488b",
   "metadata": {},
   "outputs": [
    {
     "name": "stdout",
     "output_type": "stream",
     "text": [
      "Enter a positive number: 7\n",
      "\n",
      "2x1=2 3x1=3 4x1=4 5x1=5 6x1=6 7x1=7 \n",
      "\n",
      "\n",
      "2x2=4 3x2=6 4x2=8 5x2=10 6x2=12 7x2=14 \n",
      "\n",
      "\n",
      "2x3=6 3x3=9 4x3=12 5x3=15 6x3=18 7x3=21 \n",
      "\n",
      "\n",
      "2x4=8 3x4=12 4x4=16 5x4=20 6x4=24 7x4=28 \n",
      "\n",
      "\n",
      "2x5=10 3x5=15 4x5=20 5x5=25 6x5=30 7x5=35 \n",
      "\n",
      "\n",
      "2x6=12 3x6=18 4x6=24 5x6=30 6x6=36 7x6=42 \n",
      "\n",
      "\n",
      "2x7=14 3x7=21 4x7=28 5x7=35 6x7=42 7x7=49 \n",
      "\n",
      "\n",
      "2x8=16 3x8=24 4x8=32 5x8=40 6x8=48 7x8=56 \n",
      "\n",
      "\n",
      "2x9=18 3x9=27 4x9=36 5x9=45 6x9=54 7x9=63 \n",
      "\n",
      "\n",
      "2x10=20 3x10=30 4x10=40 5x10=50 6x10=60 7x10=70 \n",
      "\n"
     ]
    }
   ],
   "source": [
    "n = int(input('Enter a positive number: '))#It takes a positive number as input\n",
    "def mulTable1(n):\n",
    "    d=n+1 #for multiplication table create inclue input number\n",
    "    for nums in range (1,11):#multiplier set till 10\n",
    "        print()\n",
    "        for i in range (2,d):#multiplication table starts from 2\n",
    "            value = i*nums\n",
    "            print(f'{i}x{nums}={value}',sep=' ',end=' ')# creating frame of multiplicationTable \n",
    "        print(\"\\n\")     \n",
    "mulTable1(n)"
   ]
  },
  {
   "cell_type": "markdown",
   "id": "2272cb85",
   "metadata": {},
   "source": [
    "# 2. Create a class that receives a list of words wlist at the time of object creation. The class is intended some string manipulation method."
   ]
  },
  {
   "cell_type": "code",
   "execution_count": 112,
   "id": "3b7067d5",
   "metadata": {},
   "outputs": [
    {
     "name": "stdout",
     "output_type": "stream",
     "text": [
      "word of length 3 are:  ['bad', 'nan', 'bad']\n",
      "word starts with a is:  ['average']\n",
      "word ends with l is:  ['normal']\n",
      "palindrome word is:  ['nan']\n",
      "total words are present in a list is 7\n",
      "longest word of wlist is:  average\n",
      "smallest word of wlist is:  bad\n",
      "total ocurrence of word bad is:  2\n"
     ]
    }
   ],
   "source": [
    "class StringManipulation: #created a class\n",
    "    def __init__(self, wlist): # creating a constuctor to initialize the wlist\n",
    "        self.wlist = wlist\n",
    "    def words_of_length(self, size): # this function match input number with length of word present in the wilst      \n",
    "        return [words for words in self.wlist if len(words) == size] #returns a list of all the words of length in wlist\n",
    "    \n",
    "    def words_starts_with(self, char):# this function match input letter with the word which are start with this letter    \n",
    "        return [words for words in self.wlist if words.startswith(char)] # returns a list of all the words that start with char in wlist\n",
    "    \n",
    "    def words_ends_with(self, char):# this function match input letter with the word which are ends with this letter    \n",
    "        return [words for words in self.wlist if words.endswith(char)]# returns a list of all the words that end with char in wlist.\n",
    "    \n",
    "    def palindromes(self): # this function try to find from wlist the word which is same as it's reverse format  \n",
    "        return [words for words in self.wlist if words == words[::-1]] #returns a list of all the words that are palindromes in wlist\n",
    "    \n",
    "    def total_words(self): # This function is calculate length of list \n",
    "        return len(self.wlist) #returns the number of words in wlist\n",
    "    \n",
    "    def longest_word(self): # this function is try to find maximum length word from wlist\n",
    "        return max(self.wlist, key=len) #that returns the longest length word in wlist\n",
    "    \n",
    "    def smallest_word(self): # this function is try to find minimum length word from wlist \n",
    "        return min(self.wlist, key=len) #that returns the smallest length word in wlist\n",
    "    \n",
    "    def count_words(self,occurrence): # this function is count the occurrence of input word   \n",
    "        return self.wlist.count(occurrence) # that returns the total number of occurrences of word in wlist.\n",
    "    \n",
    "sd=StringManipulation([\"good\",\"bad\",\"normal\",\"average\",\"best\",\"nan\",\"bad\"]) #input wlist\n",
    "l=sd.words_of_length(3)\n",
    "s=sd.words_starts_with(\"a\")\n",
    "e=sd.words_ends_with(\"l\")\n",
    "p=sd.palindromes()\n",
    "t=sd.total_words()\n",
    "lo=sd.longest_word()\n",
    "sm=sd.smallest_word()\n",
    "c= sd.count_words(\"bad\")\n",
    "print(\"word of length 3 are: \",l)\n",
    "print(\"word starts with a is: \",s)\n",
    "print(\"word ends with l is: \",e)\n",
    "print(\"palindrome word is: \",p)\n",
    "print(\"total words are present in a list is\",t)\n",
    "print(\"longest word of wlist is: \",lo)\n",
    "print(\"smallest word of wlist is: \",sm)\n",
    "print(\"total ocurrence of word bad is: \",c)"
   ]
  },
  {
   "cell_type": "markdown",
   "id": "b60861b8",
   "metadata": {},
   "source": [
    "# 3.Perasron correlation mathematical form"
   ]
  },
  {
   "cell_type": "code",
   "execution_count": 119,
   "id": "a6b95241",
   "metadata": {},
   "outputs": [
    {
     "name": "stdout",
     "output_type": "stream",
     "text": [
      "3 4 5\n",
      "3 4 5\n",
      "1.0\n",
      "None\n"
     ]
    }
   ],
   "source": [
    "def measures(x,y):#create a function takes input x and y\n",
    "    if len(x) != len(y):#creating conditional column to handle unsatisfied input \n",
    "        return 0.0\n",
    "    else :\n",
    "        n = len(x)\n",
    "        d = len(y)\n",
    "        x_mean = sum(x)/n   # calculate mean of x variable\n",
    "        y_mean = sum(y)/d   # calculate mean of y variable \n",
    "        x_coff = sum([(x[i] - x_mean) **2 for i in range(n)]) #calculate square of daviation from mean for x variable\n",
    "        y_coff = sum([(y[i] - y_mean) **2 for i in range(n)]) #calculate square of daviation from mean for y variable\n",
    "        numerator = sum([(x[i] - x_mean) * (y[i] - y_mean) for i in range(n)]) #define the numerator\n",
    "        denominator = (x_coff ** 0.5) * (y_coff ** 0.5) #define the denominator\n",
    "        if denominator == 0.0:\n",
    "            return 0.0\n",
    "        else:\n",
    "            print(\"{:.1f}\".format(numerator/denominator))\n",
    "\n",
    "\n",
    "First_list = list(map(float, input().split(\" \"))) #it takes input as values of x and separate it with a tab\n",
    "Second_list = list(map(float, input().split(\" \"))) #it takes input as values of y and separate it with a tab\n",
    "x = [round(num, 2) for num in First_list]\n",
    "y = [round(num, 2) for num in Second_list]\n",
    "print(measures(x,y))"
   ]
  },
  {
   "cell_type": "markdown",
   "id": "4e80ab9c",
   "metadata": {},
   "source": [
    "# 4. Write a python program to print the following pattern. The number of in the first line taken from the user input (odd number). The example is given for the user input 15."
   ]
  },
  {
   "cell_type": "code",
   "execution_count": 91,
   "id": "a25bc1d0",
   "metadata": {},
   "outputs": [
    {
     "name": "stdout",
     "output_type": "stream",
     "text": [
      "enter a odd number15\n",
      "***************\n",
      "**     *     **\n",
      "* *    *    * *\n",
      "*  *   *   *  *\n",
      "*   *  *  *   *\n",
      "*    * * *    *\n",
      "*     ***     *\n",
      "***************\n",
      "*     ***     *\n",
      "*    * * *    *\n",
      "*   *  *  *   *\n",
      "*  *   *   *  *\n",
      "* *    *    * *\n",
      "**     *     **\n",
      "***************\n"
     ]
    }
   ],
   "source": [
    "ia=int(input(\"enter a odd number\"))#take user input to set dimenssion of \"*\" pattern\n",
    "def stars(n) :\n",
    "    if n % 2 == 0: #create a condition to deal with input \n",
    "        print(\"Please use a odd number\")\n",
    "    else:\n",
    "        for i in range(1, n+1) :#set value of row\n",
    "            for j in range(1, n+1) : #set value of column\n",
    "                s=((n-1)/2)+1   #managing \"*\" location of pattern\n",
    "                if (i==1 or i==n or j==1 or j==n #required structure arguments\n",
    "                    or i==j or j==(n - i + 1) or i==s or j==s) :\n",
    "                    print(\"*\", end = \"\")           \n",
    "                else :\n",
    "                    print(\" \", end = \"\")           \n",
    "         \n",
    "            print()\n",
    "stars(ia)            "
   ]
  },
  {
   "cell_type": "markdown",
   "id": "7d839cc5",
   "metadata": {},
   "source": [
    "# 5.writete a program to accept a string from user and it's containing (),{},[],in it and makesure all the opening and closing brackets which needs to be verified.All the opening brackets should be closed with the same type of closing acket"
   ]
  },
  {
   "cell_type": "code",
   "execution_count": 121,
   "id": "4a103987",
   "metadata": {},
   "outputs": [
    {
     "name": "stdout",
     "output_type": "stream",
     "text": [
      "false\n"
     ]
    }
   ],
   "source": [
    "Open= [\"[\", \"{\", \"(\"]\n",
    "Close = [\"]\", \"}\", \")\"]\n",
    "\n",
    "\n",
    "def balance(myStr):\n",
    "    stack = [] #create a stack to contain execute values\n",
    "    for i in myStr:\n",
    "        if i in Open: \n",
    "            stack.append(i)#if input match with \"Open\" variable it stores to the stack\n",
    "        elif i in Close:\n",
    "            pos = Close.index(i)\n",
    "            if (len(stack) > 0) and (Open[pos] == stack[len(stack) - 1]):\n",
    "                stack.pop() #create a condition to satisfy  that open bracket closes with same close bracket\n",
    "            else:\n",
    "                return \"false\"\n",
    "    if len(stack) == 0: #if satisfied it returns true\n",
    "        return \"true\"\n",
    "    else:\n",
    "        return \"false\"#otherwise it return false\n",
    "\n",
    "\n",
    "print(balance(\"{([(])}\"))"
   ]
  },
  {
   "cell_type": "code",
   "execution_count": null,
   "id": "2fa4f606",
   "metadata": {},
   "outputs": [],
   "source": []
  }
 ],
 "metadata": {
  "kernelspec": {
   "display_name": "Python 3",
   "language": "python",
   "name": "python3"
  },
  "language_info": {
   "codemirror_mode": {
    "name": "ipython",
    "version": 3
   },
   "file_extension": ".py",
   "mimetype": "text/x-python",
   "name": "python",
   "nbconvert_exporter": "python",
   "pygments_lexer": "ipython3",
   "version": "3.8.8"
  }
 },
 "nbformat": 4,
 "nbformat_minor": 5
}
