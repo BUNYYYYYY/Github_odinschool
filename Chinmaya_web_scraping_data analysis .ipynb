{
 "cells": [
  {
   "cell_type": "markdown",
   "id": "c2d2e938",
   "metadata": {},
   "source": [
    "# Countries in the world by population (2022) data analysis"
   ]
  },
  {
   "cell_type": "code",
   "execution_count": 479,
   "id": "2245da66",
   "metadata": {},
   "outputs": [],
   "source": [
    "# importing some libraries \n",
    "import requests\n",
    "from bs4 import BeautifulSoup\n",
    "import re\n",
    "import dateutil\n",
    "import pandas as pd\n",
    "import numpy as np\n",
    "import matplotlib.pyplot as plt\n",
    "import seaborn as sns"
   ]
  },
  {
   "cell_type": "code",
   "execution_count": 480,
   "id": "706abe7b",
   "metadata": {},
   "outputs": [],
   "source": [
    "# Downloading contents of the web page\n",
    "url =  \"https://www.worldometers.info/world-population/population-by-country\"\n",
    "page = requests.get(url).text"
   ]
  },
  {
   "cell_type": "markdown",
   "id": "25f3ed08",
   "metadata": {},
   "source": [
    "# Description:\n",
    "\n",
    "### This list includes both countries and dependent territories. Data based on the latest United Nations Population Division estimates.\n",
    "### Click on the name of the country or dependency for current estimates (live population clock), historical data, and projected figures.\n"
   ]
  },
  {
   "cell_type": "code",
   "execution_count": 481,
   "id": "253523a8",
   "metadata": {},
   "outputs": [],
   "source": [
    "# parsing the web page with htmt content using BeautifulSoup \n",
    "soup = BeautifulSoup(page, 'html.parser')\n"
   ]
  },
  {
   "cell_type": "code",
   "execution_count": 482,
   "id": "5a7f9335",
   "metadata": {},
   "outputs": [],
   "source": [
    "# finding elements with refers to class\n",
    "table= soup.find_all('div',class_='col-md-12')\n"
   ]
  },
  {
   "cell_type": "code",
   "execution_count": 483,
   "id": "93190d7d",
   "metadata": {},
   "outputs": [],
   "source": [
    "# including some column headers and creating as dataframe\n",
    "columns_h= ['country','Population','yearly_change','Net_change','density','Land_area','migrants','Fert_rate','Med_age','Urban_pop','World_share']\n",
    "df=pd.DataFrame(columns=columns_h)"
   ]
  },
  {
   "cell_type": "code",
   "execution_count": 484,
   "id": "4b506ad9",
   "metadata": {},
   "outputs": [],
   "source": [
    "# initializing variables\n",
    "country=''\n",
    "Population=''\n",
    "yearly_change=''\n",
    "Net_change=''\n",
    "density=''\n",
    "Land_area=''\n",
    "migrants=''\n",
    "Fert_rate=''\n",
    "Med_age=''\n",
    "Urban_pop=''\n",
    "World_share=''"
   ]
  },
  {
   "cell_type": "code",
   "execution_count": 485,
   "id": "d5a1e007",
   "metadata": {},
   "outputs": [],
   "source": [
    "# performing loop operation to identify dataset element and print under varibles, as well as we try to clean it\n",
    "i=1\n",
    "for tr in table[0].find_all('tr'):\n",
    "    i=0\n",
    "    for td in tr.find_all('td'):\n",
    "        i= i+1\n",
    "        if(i==2):\n",
    "            country=td.text.replace('\\n','')\n",
    "        if(i==3):\n",
    "            Population=td.text.replace(',','').replace('\\n','')\n",
    "        if(i==4):\n",
    "            yearly_change=float(td.text.replace('\\n', '').replace('%', ''))\n",
    "        if(i==5):\n",
    "            Net_change=td.text.replace(',','').replace('\\n','')\n",
    "        if(i==6):\n",
    "            density=td.text.replace(',','').replace('\\n','')\n",
    "        if(i==7):\n",
    "            Land_area=td.text.replace(',','').replace('\\n','')\n",
    "        if(i==8):\n",
    "            migrants=td.text.replace(',','').replace('\\n','')\n",
    "        if(i==9):\n",
    "            Fert_rate=td.text.replace('\\n','')\n",
    "        if(i==10):\n",
    "            Med_age=td.text.replace('\\n','')\n",
    "        if(i==11):\n",
    "            Urban_pop=td.text.replace('%','').replace('\\n','')\n",
    "        if(i==12):\n",
    "            World_share=td.text.replace('%','').replace('\\n','')    \n",
    "    if('#'!=''):\n",
    "        df = df.append(\n",
    "        pd.Series([\n",
    "        country,\n",
    "        Population,\n",
    "        yearly_change,\n",
    "        Net_change,\n",
    "        density,\n",
    "        Land_area,\n",
    "        migrants,\n",
    "        Fert_rate,\n",
    "        Med_age,\n",
    "        Urban_pop,\n",
    "        World_share],index= columns_h),ignore_index =True)\n",
    "            \n",
    "        \n",
    "     "
   ]
  },
  {
   "cell_type": "code",
   "execution_count": 486,
   "id": "35ca3ead",
   "metadata": {},
   "outputs": [
    {
     "data": {
      "text/html": [
       "<div>\n",
       "<style scoped>\n",
       "    .dataframe tbody tr th:only-of-type {\n",
       "        vertical-align: middle;\n",
       "    }\n",
       "\n",
       "    .dataframe tbody tr th {\n",
       "        vertical-align: top;\n",
       "    }\n",
       "\n",
       "    .dataframe thead th {\n",
       "        text-align: right;\n",
       "    }\n",
       "</style>\n",
       "<table border=\"1\" class=\"dataframe\">\n",
       "  <thead>\n",
       "    <tr style=\"text-align: right;\">\n",
       "      <th></th>\n",
       "      <th>country</th>\n",
       "      <th>Population</th>\n",
       "      <th>yearly_change</th>\n",
       "      <th>Net_change</th>\n",
       "      <th>density</th>\n",
       "      <th>Land_area</th>\n",
       "      <th>migrants</th>\n",
       "      <th>Fert_rate</th>\n",
       "      <th>Med_age</th>\n",
       "      <th>Urban_pop</th>\n",
       "      <th>World_share</th>\n",
       "    </tr>\n",
       "  </thead>\n",
       "  <tbody>\n",
       "    <tr>\n",
       "      <th>0</th>\n",
       "      <td></td>\n",
       "      <td></td>\n",
       "      <td></td>\n",
       "      <td></td>\n",
       "      <td></td>\n",
       "      <td></td>\n",
       "      <td></td>\n",
       "      <td></td>\n",
       "      <td></td>\n",
       "      <td></td>\n",
       "      <td></td>\n",
       "    </tr>\n",
       "    <tr>\n",
       "      <th>1</th>\n",
       "      <td>China</td>\n",
       "      <td>1439323776</td>\n",
       "      <td>0.39</td>\n",
       "      <td>5540090</td>\n",
       "      <td>153</td>\n",
       "      <td>9388211</td>\n",
       "      <td>-348399</td>\n",
       "      <td>1.7</td>\n",
       "      <td>38</td>\n",
       "      <td>61</td>\n",
       "      <td>18.47</td>\n",
       "    </tr>\n",
       "    <tr>\n",
       "      <th>2</th>\n",
       "      <td>India</td>\n",
       "      <td>1380004385</td>\n",
       "      <td>0.99</td>\n",
       "      <td>13586631</td>\n",
       "      <td>464</td>\n",
       "      <td>2973190</td>\n",
       "      <td>-532687</td>\n",
       "      <td>2.2</td>\n",
       "      <td>28</td>\n",
       "      <td>35</td>\n",
       "      <td>17.70</td>\n",
       "    </tr>\n",
       "    <tr>\n",
       "      <th>3</th>\n",
       "      <td>United States</td>\n",
       "      <td>331002651</td>\n",
       "      <td>0.59</td>\n",
       "      <td>1937734</td>\n",
       "      <td>36</td>\n",
       "      <td>9147420</td>\n",
       "      <td>954806</td>\n",
       "      <td>1.8</td>\n",
       "      <td>38</td>\n",
       "      <td>83</td>\n",
       "      <td>4.25</td>\n",
       "    </tr>\n",
       "    <tr>\n",
       "      <th>4</th>\n",
       "      <td>Indonesia</td>\n",
       "      <td>273523615</td>\n",
       "      <td>1.07</td>\n",
       "      <td>2898047</td>\n",
       "      <td>151</td>\n",
       "      <td>1811570</td>\n",
       "      <td>-98955</td>\n",
       "      <td>2.3</td>\n",
       "      <td>30</td>\n",
       "      <td>56</td>\n",
       "      <td>3.51</td>\n",
       "    </tr>\n",
       "    <tr>\n",
       "      <th>...</th>\n",
       "      <td>...</td>\n",
       "      <td>...</td>\n",
       "      <td>...</td>\n",
       "      <td>...</td>\n",
       "      <td>...</td>\n",
       "      <td>...</td>\n",
       "      <td>...</td>\n",
       "      <td>...</td>\n",
       "      <td>...</td>\n",
       "      <td>...</td>\n",
       "      <td>...</td>\n",
       "    </tr>\n",
       "    <tr>\n",
       "      <th>231</th>\n",
       "      <td>Montserrat</td>\n",
       "      <td>4992</td>\n",
       "      <td>0.06</td>\n",
       "      <td>3</td>\n",
       "      <td>50</td>\n",
       "      <td>100</td>\n",
       "      <td></td>\n",
       "      <td>N.A.</td>\n",
       "      <td>N.A.</td>\n",
       "      <td>10</td>\n",
       "      <td>0.00</td>\n",
       "    </tr>\n",
       "    <tr>\n",
       "      <th>232</th>\n",
       "      <td>Falkland Islands</td>\n",
       "      <td>3480</td>\n",
       "      <td>3.05</td>\n",
       "      <td>103</td>\n",
       "      <td>0</td>\n",
       "      <td>12170</td>\n",
       "      <td></td>\n",
       "      <td>N.A.</td>\n",
       "      <td>N.A.</td>\n",
       "      <td>66</td>\n",
       "      <td>0.00</td>\n",
       "    </tr>\n",
       "    <tr>\n",
       "      <th>233</th>\n",
       "      <td>Niue</td>\n",
       "      <td>1626</td>\n",
       "      <td>0.68</td>\n",
       "      <td>11</td>\n",
       "      <td>6</td>\n",
       "      <td>260</td>\n",
       "      <td></td>\n",
       "      <td>N.A.</td>\n",
       "      <td>N.A.</td>\n",
       "      <td>46</td>\n",
       "      <td>0.00</td>\n",
       "    </tr>\n",
       "    <tr>\n",
       "      <th>234</th>\n",
       "      <td>Tokelau</td>\n",
       "      <td>1357</td>\n",
       "      <td>1.27</td>\n",
       "      <td>17</td>\n",
       "      <td>136</td>\n",
       "      <td>10</td>\n",
       "      <td></td>\n",
       "      <td>N.A.</td>\n",
       "      <td>N.A.</td>\n",
       "      <td>0</td>\n",
       "      <td>0.00</td>\n",
       "    </tr>\n",
       "    <tr>\n",
       "      <th>235</th>\n",
       "      <td>Holy See</td>\n",
       "      <td>801</td>\n",
       "      <td>0.25</td>\n",
       "      <td>2</td>\n",
       "      <td>2003</td>\n",
       "      <td>0</td>\n",
       "      <td></td>\n",
       "      <td>N.A.</td>\n",
       "      <td>N.A.</td>\n",
       "      <td>N.A.</td>\n",
       "      <td>0.00</td>\n",
       "    </tr>\n",
       "  </tbody>\n",
       "</table>\n",
       "<p>236 rows × 11 columns</p>\n",
       "</div>"
      ],
      "text/plain": [
       "              country  Population yearly_change Net_change density Land_area  \\\n",
       "0                                                                              \n",
       "1               China  1439323776          0.39    5540090     153   9388211   \n",
       "2               India  1380004385          0.99   13586631     464   2973190   \n",
       "3       United States   331002651          0.59    1937734      36   9147420   \n",
       "4           Indonesia   273523615          1.07    2898047     151   1811570   \n",
       "..                ...         ...           ...        ...     ...       ...   \n",
       "231        Montserrat        4992          0.06          3      50       100   \n",
       "232  Falkland Islands        3480          3.05        103       0     12170   \n",
       "233              Niue        1626          0.68         11       6       260   \n",
       "234           Tokelau        1357          1.27         17     136        10   \n",
       "235          Holy See         801          0.25          2    2003         0   \n",
       "\n",
       "    migrants Fert_rate Med_age Urban_pop World_share  \n",
       "0                                                     \n",
       "1    -348399       1.7      38       61       18.47   \n",
       "2    -532687       2.2      28       35       17.70   \n",
       "3     954806       1.8      38       83        4.25   \n",
       "4     -98955       2.3      30       56        3.51   \n",
       "..       ...       ...     ...       ...         ...  \n",
       "231               N.A.    N.A.       10        0.00   \n",
       "232               N.A.    N.A.       66        0.00   \n",
       "233               N.A.    N.A.       46        0.00   \n",
       "234               N.A.    N.A.        0        0.00   \n",
       "235               N.A.    N.A.      N.A.       0.00   \n",
       "\n",
       "[236 rows x 11 columns]"
      ]
     },
     "execution_count": 486,
     "metadata": {},
     "output_type": "execute_result"
    }
   ],
   "source": [
    "df"
   ]
  },
  {
   "cell_type": "markdown",
   "id": "79cbe6af",
   "metadata": {},
   "source": [
    "# Successfully we extract dataset from the web page"
   ]
  },
  {
   "cell_type": "code",
   "execution_count": 487,
   "id": "54fb6d0a",
   "metadata": {},
   "outputs": [
    {
     "data": {
      "text/plain": [
       "(236, 11)"
      ]
     },
     "execution_count": 487,
     "metadata": {},
     "output_type": "execute_result"
    }
   ],
   "source": [
    "df.shape"
   ]
  },
  {
   "cell_type": "markdown",
   "id": "fd3fa553",
   "metadata": {},
   "source": [
    "### In this dataset 235 rows and 11 colums are present"
   ]
  },
  {
   "cell_type": "markdown",
   "id": "c149cfa3",
   "metadata": {},
   "source": [
    "# Data Cleaning"
   ]
  },
  {
   "cell_type": "code",
   "execution_count": 488,
   "id": "0f3cf537",
   "metadata": {},
   "outputs": [],
   "source": [
    "#deleting first row\n",
    "df = df.iloc[1: , :]"
   ]
  },
  {
   "cell_type": "code",
   "execution_count": 489,
   "id": "fe60a307",
   "metadata": {},
   "outputs": [
    {
     "data": {
      "text/html": [
       "<div>\n",
       "<style scoped>\n",
       "    .dataframe tbody tr th:only-of-type {\n",
       "        vertical-align: middle;\n",
       "    }\n",
       "\n",
       "    .dataframe tbody tr th {\n",
       "        vertical-align: top;\n",
       "    }\n",
       "\n",
       "    .dataframe thead th {\n",
       "        text-align: right;\n",
       "    }\n",
       "</style>\n",
       "<table border=\"1\" class=\"dataframe\">\n",
       "  <thead>\n",
       "    <tr style=\"text-align: right;\">\n",
       "      <th></th>\n",
       "      <th>country</th>\n",
       "      <th>Population</th>\n",
       "      <th>yearly_change</th>\n",
       "      <th>Net_change</th>\n",
       "      <th>density</th>\n",
       "      <th>Land_area</th>\n",
       "      <th>migrants</th>\n",
       "      <th>Fert_rate</th>\n",
       "      <th>Med_age</th>\n",
       "      <th>Urban_pop</th>\n",
       "      <th>World_share</th>\n",
       "    </tr>\n",
       "  </thead>\n",
       "  <tbody>\n",
       "    <tr>\n",
       "      <th>1</th>\n",
       "      <td>China</td>\n",
       "      <td>1439323776</td>\n",
       "      <td>0.39</td>\n",
       "      <td>5540090</td>\n",
       "      <td>153</td>\n",
       "      <td>9388211</td>\n",
       "      <td>-348399</td>\n",
       "      <td>1.7</td>\n",
       "      <td>38</td>\n",
       "      <td>61</td>\n",
       "      <td>18.47</td>\n",
       "    </tr>\n",
       "    <tr>\n",
       "      <th>2</th>\n",
       "      <td>India</td>\n",
       "      <td>1380004385</td>\n",
       "      <td>0.99</td>\n",
       "      <td>13586631</td>\n",
       "      <td>464</td>\n",
       "      <td>2973190</td>\n",
       "      <td>-532687</td>\n",
       "      <td>2.2</td>\n",
       "      <td>28</td>\n",
       "      <td>35</td>\n",
       "      <td>17.70</td>\n",
       "    </tr>\n",
       "    <tr>\n",
       "      <th>3</th>\n",
       "      <td>United States</td>\n",
       "      <td>331002651</td>\n",
       "      <td>0.59</td>\n",
       "      <td>1937734</td>\n",
       "      <td>36</td>\n",
       "      <td>9147420</td>\n",
       "      <td>954806</td>\n",
       "      <td>1.8</td>\n",
       "      <td>38</td>\n",
       "      <td>83</td>\n",
       "      <td>4.25</td>\n",
       "    </tr>\n",
       "    <tr>\n",
       "      <th>4</th>\n",
       "      <td>Indonesia</td>\n",
       "      <td>273523615</td>\n",
       "      <td>1.07</td>\n",
       "      <td>2898047</td>\n",
       "      <td>151</td>\n",
       "      <td>1811570</td>\n",
       "      <td>-98955</td>\n",
       "      <td>2.3</td>\n",
       "      <td>30</td>\n",
       "      <td>56</td>\n",
       "      <td>3.51</td>\n",
       "    </tr>\n",
       "    <tr>\n",
       "      <th>5</th>\n",
       "      <td>Pakistan</td>\n",
       "      <td>220892340</td>\n",
       "      <td>2.0</td>\n",
       "      <td>4327022</td>\n",
       "      <td>287</td>\n",
       "      <td>770880</td>\n",
       "      <td>-233379</td>\n",
       "      <td>3.6</td>\n",
       "      <td>23</td>\n",
       "      <td>35</td>\n",
       "      <td>2.83</td>\n",
       "    </tr>\n",
       "  </tbody>\n",
       "</table>\n",
       "</div>"
      ],
      "text/plain": [
       "         country  Population yearly_change Net_change density Land_area  \\\n",
       "1          China  1439323776          0.39    5540090     153   9388211   \n",
       "2          India  1380004385          0.99   13586631     464   2973190   \n",
       "3  United States   331002651          0.59    1937734      36   9147420   \n",
       "4      Indonesia   273523615          1.07    2898047     151   1811570   \n",
       "5       Pakistan   220892340           2.0    4327022     287    770880   \n",
       "\n",
       "  migrants Fert_rate Med_age Urban_pop World_share  \n",
       "1  -348399       1.7      38       61       18.47   \n",
       "2  -532687       2.2      28       35       17.70   \n",
       "3   954806       1.8      38       83        4.25   \n",
       "4   -98955       2.3      30       56        3.51   \n",
       "5  -233379       3.6      23       35        2.83   "
      ]
     },
     "execution_count": 489,
     "metadata": {},
     "output_type": "execute_result"
    }
   ],
   "source": [
    "df.head()"
   ]
  },
  {
   "cell_type": "code",
   "execution_count": 490,
   "id": "6e6fcac2",
   "metadata": {},
   "outputs": [],
   "source": [
    "# replacing null values to NaN\n",
    "df=df.replace('N.A.',np.NaN)\n"
   ]
  },
  {
   "cell_type": "code",
   "execution_count": 491,
   "id": "1bc04962",
   "metadata": {},
   "outputs": [],
   "source": [
    "# creating deep copy of our original dataset\n",
    "df2=df.copy()"
   ]
  },
  {
   "cell_type": "code",
   "execution_count": 492,
   "id": "9a31b7a3",
   "metadata": {},
   "outputs": [],
   "source": [
    "# replacing blank values into NaN value\n",
    "df2=df2.replace(' ',np.NaN)"
   ]
  },
  {
   "cell_type": "code",
   "execution_count": 493,
   "id": "fcc61749",
   "metadata": {},
   "outputs": [
    {
     "data": {
      "text/html": [
       "<div>\n",
       "<style scoped>\n",
       "    .dataframe tbody tr th:only-of-type {\n",
       "        vertical-align: middle;\n",
       "    }\n",
       "\n",
       "    .dataframe tbody tr th {\n",
       "        vertical-align: top;\n",
       "    }\n",
       "\n",
       "    .dataframe thead th {\n",
       "        text-align: right;\n",
       "    }\n",
       "</style>\n",
       "<table border=\"1\" class=\"dataframe\">\n",
       "  <thead>\n",
       "    <tr style=\"text-align: right;\">\n",
       "      <th></th>\n",
       "      <th>country</th>\n",
       "      <th>Population</th>\n",
       "      <th>yearly_change</th>\n",
       "      <th>Net_change</th>\n",
       "      <th>density</th>\n",
       "      <th>Land_area</th>\n",
       "      <th>migrants</th>\n",
       "      <th>Fert_rate</th>\n",
       "      <th>Med_age</th>\n",
       "      <th>Urban_pop</th>\n",
       "      <th>World_share</th>\n",
       "    </tr>\n",
       "  </thead>\n",
       "  <tbody>\n",
       "    <tr>\n",
       "      <th>1</th>\n",
       "      <td>China</td>\n",
       "      <td>1439323776</td>\n",
       "      <td>0.39</td>\n",
       "      <td>5540090</td>\n",
       "      <td>153</td>\n",
       "      <td>9388211</td>\n",
       "      <td>-348399</td>\n",
       "      <td>1.7</td>\n",
       "      <td>38</td>\n",
       "      <td>61</td>\n",
       "      <td>18.47</td>\n",
       "    </tr>\n",
       "    <tr>\n",
       "      <th>2</th>\n",
       "      <td>India</td>\n",
       "      <td>1380004385</td>\n",
       "      <td>0.99</td>\n",
       "      <td>13586631</td>\n",
       "      <td>464</td>\n",
       "      <td>2973190</td>\n",
       "      <td>-532687</td>\n",
       "      <td>2.2</td>\n",
       "      <td>28</td>\n",
       "      <td>35</td>\n",
       "      <td>17.70</td>\n",
       "    </tr>\n",
       "    <tr>\n",
       "      <th>3</th>\n",
       "      <td>United States</td>\n",
       "      <td>331002651</td>\n",
       "      <td>0.59</td>\n",
       "      <td>1937734</td>\n",
       "      <td>36</td>\n",
       "      <td>9147420</td>\n",
       "      <td>954806</td>\n",
       "      <td>1.8</td>\n",
       "      <td>38</td>\n",
       "      <td>83</td>\n",
       "      <td>4.25</td>\n",
       "    </tr>\n",
       "    <tr>\n",
       "      <th>4</th>\n",
       "      <td>Indonesia</td>\n",
       "      <td>273523615</td>\n",
       "      <td>1.07</td>\n",
       "      <td>2898047</td>\n",
       "      <td>151</td>\n",
       "      <td>1811570</td>\n",
       "      <td>-98955</td>\n",
       "      <td>2.3</td>\n",
       "      <td>30</td>\n",
       "      <td>56</td>\n",
       "      <td>3.51</td>\n",
       "    </tr>\n",
       "    <tr>\n",
       "      <th>5</th>\n",
       "      <td>Pakistan</td>\n",
       "      <td>220892340</td>\n",
       "      <td>2.00</td>\n",
       "      <td>4327022</td>\n",
       "      <td>287</td>\n",
       "      <td>770880</td>\n",
       "      <td>-233379</td>\n",
       "      <td>3.6</td>\n",
       "      <td>23</td>\n",
       "      <td>35</td>\n",
       "      <td>2.83</td>\n",
       "    </tr>\n",
       "    <tr>\n",
       "      <th>...</th>\n",
       "      <td>...</td>\n",
       "      <td>...</td>\n",
       "      <td>...</td>\n",
       "      <td>...</td>\n",
       "      <td>...</td>\n",
       "      <td>...</td>\n",
       "      <td>...</td>\n",
       "      <td>...</td>\n",
       "      <td>...</td>\n",
       "      <td>...</td>\n",
       "      <td>...</td>\n",
       "    </tr>\n",
       "    <tr>\n",
       "      <th>231</th>\n",
       "      <td>Montserrat</td>\n",
       "      <td>4992</td>\n",
       "      <td>0.06</td>\n",
       "      <td>3</td>\n",
       "      <td>50</td>\n",
       "      <td>100</td>\n",
       "      <td>NaN</td>\n",
       "      <td>NaN</td>\n",
       "      <td>NaN</td>\n",
       "      <td>10</td>\n",
       "      <td>0.00</td>\n",
       "    </tr>\n",
       "    <tr>\n",
       "      <th>232</th>\n",
       "      <td>Falkland Islands</td>\n",
       "      <td>3480</td>\n",
       "      <td>3.05</td>\n",
       "      <td>103</td>\n",
       "      <td>0</td>\n",
       "      <td>12170</td>\n",
       "      <td>NaN</td>\n",
       "      <td>NaN</td>\n",
       "      <td>NaN</td>\n",
       "      <td>66</td>\n",
       "      <td>0.00</td>\n",
       "    </tr>\n",
       "    <tr>\n",
       "      <th>233</th>\n",
       "      <td>Niue</td>\n",
       "      <td>1626</td>\n",
       "      <td>0.68</td>\n",
       "      <td>11</td>\n",
       "      <td>6</td>\n",
       "      <td>260</td>\n",
       "      <td>NaN</td>\n",
       "      <td>NaN</td>\n",
       "      <td>NaN</td>\n",
       "      <td>46</td>\n",
       "      <td>0.00</td>\n",
       "    </tr>\n",
       "    <tr>\n",
       "      <th>234</th>\n",
       "      <td>Tokelau</td>\n",
       "      <td>1357</td>\n",
       "      <td>1.27</td>\n",
       "      <td>17</td>\n",
       "      <td>136</td>\n",
       "      <td>10</td>\n",
       "      <td>NaN</td>\n",
       "      <td>NaN</td>\n",
       "      <td>NaN</td>\n",
       "      <td>0</td>\n",
       "      <td>0.00</td>\n",
       "    </tr>\n",
       "    <tr>\n",
       "      <th>235</th>\n",
       "      <td>Holy See</td>\n",
       "      <td>801</td>\n",
       "      <td>0.25</td>\n",
       "      <td>2</td>\n",
       "      <td>2003</td>\n",
       "      <td>0</td>\n",
       "      <td>NaN</td>\n",
       "      <td>NaN</td>\n",
       "      <td>NaN</td>\n",
       "      <td>NaN</td>\n",
       "      <td>0.00</td>\n",
       "    </tr>\n",
       "  </tbody>\n",
       "</table>\n",
       "<p>235 rows × 11 columns</p>\n",
       "</div>"
      ],
      "text/plain": [
       "              country  Population  yearly_change Net_change density Land_area  \\\n",
       "1               China  1439323776           0.39    5540090     153   9388211   \n",
       "2               India  1380004385           0.99   13586631     464   2973190   \n",
       "3       United States   331002651           0.59    1937734      36   9147420   \n",
       "4           Indonesia   273523615           1.07    2898047     151   1811570   \n",
       "5            Pakistan   220892340           2.00    4327022     287    770880   \n",
       "..                ...         ...            ...        ...     ...       ...   \n",
       "231        Montserrat        4992           0.06          3      50       100   \n",
       "232  Falkland Islands        3480           3.05        103       0     12170   \n",
       "233              Niue        1626           0.68         11       6       260   \n",
       "234           Tokelau        1357           1.27         17     136        10   \n",
       "235          Holy See         801           0.25          2    2003         0   \n",
       "\n",
       "    migrants Fert_rate Med_age Urban_pop World_share  \n",
       "1    -348399       1.7      38       61       18.47   \n",
       "2    -532687       2.2      28       35       17.70   \n",
       "3     954806       1.8      38       83        4.25   \n",
       "4     -98955       2.3      30       56        3.51   \n",
       "5    -233379       3.6      23       35        2.83   \n",
       "..       ...       ...     ...       ...         ...  \n",
       "231      NaN       NaN     NaN       10        0.00   \n",
       "232      NaN       NaN     NaN       66        0.00   \n",
       "233      NaN       NaN     NaN       46        0.00   \n",
       "234      NaN       NaN     NaN        0        0.00   \n",
       "235      NaN       NaN     NaN       NaN       0.00   \n",
       "\n",
       "[235 rows x 11 columns]"
      ]
     },
     "execution_count": 493,
     "metadata": {},
     "output_type": "execute_result"
    }
   ],
   "source": [
    "df2"
   ]
  },
  {
   "cell_type": "code",
   "execution_count": 494,
   "id": "70e58d62",
   "metadata": {},
   "outputs": [
    {
     "data": {
      "text/plain": [
       "country           0\n",
       "Population        0\n",
       "yearly_change     0\n",
       "Net_change        0\n",
       "density           0\n",
       "Land_area         0\n",
       "migrants         34\n",
       "Fert_rate        34\n",
       "Med_age          34\n",
       "Urban_pop        13\n",
       "World_share       0\n",
       "dtype: int64"
      ]
     },
     "execution_count": 494,
     "metadata": {},
     "output_type": "execute_result"
    }
   ],
   "source": [
    "# finding missing values\n",
    "df2.isnull().sum()"
   ]
  },
  {
   "cell_type": "code",
   "execution_count": 495,
   "id": "8fb80109",
   "metadata": {},
   "outputs": [
    {
     "data": {
      "text/plain": [
       "<AxesSubplot:>"
      ]
     },
     "execution_count": 495,
     "metadata": {},
     "output_type": "execute_result"
    },
    {
     "data": {
      "image/png": "[encoded data removed]",
      "text/plain": [
       "<Figure size 1800x720 with 3 Axes>"
      ]
     },
     "metadata": {
      "needs_background": "light"
     },
     "output_type": "display_data"
    }
   ],
   "source": [
    "#identify missing values by bar graph\n",
    "import missingno as msno\n",
    "msno.bar(df2)"
   ]
  },
  {
   "cell_type": "markdown",
   "id": "49b9b086",
   "metadata": {},
   "source": [
    "### here we can see only migrants, Fert_rate, Med_age, Urban_pop columns have missing values"
   ]
  },
  {
   "cell_type": "code",
   "execution_count": 496,
   "id": "a1cdb9de",
   "metadata": {},
   "outputs": [
    {
     "name": "stdout",
     "output_type": "stream",
     "text": [
      "<class 'pandas.core.frame.DataFrame'>\n",
      "RangeIndex: 235 entries, 1 to 235\n",
      "Data columns (total 11 columns):\n",
      " #   Column         Non-Null Count  Dtype  \n",
      "---  ------         --------------  -----  \n",
      " 0   country        235 non-null    object \n",
      " 1   Population     235 non-null    object \n",
      " 2   yearly_change  235 non-null    float64\n",
      " 3   Net_change     235 non-null    object \n",
      " 4   density        235 non-null    object \n",
      " 5   Land_area      235 non-null    object \n",
      " 6   migrants       201 non-null    object \n",
      " 7   Fert_rate      201 non-null    object \n",
      " 8   Med_age        201 non-null    object \n",
      " 9   Urban_pop      222 non-null    object \n",
      " 10  World_share    235 non-null    object \n",
      "dtypes: float64(1), object(10)\n",
      "memory usage: 20.3+ KB\n"
     ]
    }
   ],
   "source": [
    "#checking variable information of dataset\n",
    "df2.info()"
   ]
  },
  {
   "cell_type": "markdown",
   "id": "97575261",
   "metadata": {},
   "source": [
    "## here python read most of variable's datatype as object , we have tochange it"
   ]
  },
  {
   "cell_type": "code",
   "execution_count": 497,
   "id": "c776c550",
   "metadata": {},
   "outputs": [],
   "source": [
    "#changing datatype with its appropriate one\n",
    "df2['Population']=(df2['Population'].astype(str).astype(int))\n",
    "df2['yearly_change']=(df2['yearly_change'].astype(str).astype(float))\n",
    "df2['Net_change']=(df2['Net_change'].astype(str).astype(int))\n",
    "df2['density']=(df2['density'].astype(str).astype(int))\n",
    "df2['Land_area']=(df2['Land_area'].astype(str).astype(int))\n",
    "df2['migrants']=(df2['migrants'].astype(str).astype(float))\n",
    "df2['Fert_rate']=(df2['Fert_rate'].astype(str).astype(float))\n",
    "df2['Med_age']=(df2['Med_age'].astype(str).astype(float))\n",
    "df2['Urban_pop']=(df2['Urban_pop'].astype(str).astype(float))\n",
    "df2['World_share']=(df2['World_share'].astype(str).astype(float))"
   ]
  },
  {
   "cell_type": "markdown",
   "id": "8f625e63",
   "metadata": {},
   "source": [
    "# Report the top three countries based on the density column."
   ]
  },
  {
   "cell_type": "code",
   "execution_count": 498,
   "id": "240c0610",
   "metadata": {},
   "outputs": [
    {
     "data": {
      "text/html": [
       "<div>\n",
       "<style scoped>\n",
       "    .dataframe tbody tr th:only-of-type {\n",
       "        vertical-align: middle;\n",
       "    }\n",
       "\n",
       "    .dataframe tbody tr th {\n",
       "        vertical-align: top;\n",
       "    }\n",
       "\n",
       "    .dataframe thead th {\n",
       "        text-align: right;\n",
       "    }\n",
       "</style>\n",
       "<table border=\"1\" class=\"dataframe\">\n",
       "  <thead>\n",
       "    <tr style=\"text-align: right;\">\n",
       "      <th></th>\n",
       "      <th>country</th>\n",
       "      <th>density</th>\n",
       "    </tr>\n",
       "  </thead>\n",
       "  <tbody>\n",
       "    <tr>\n",
       "      <th>136</th>\n",
       "      <td>Monaco</td>\n",
       "      <td>26337</td>\n",
       "    </tr>\n",
       "    <tr>\n",
       "      <th>121</th>\n",
       "      <td>Macao</td>\n",
       "      <td>21645</td>\n",
       "    </tr>\n",
       "    <tr>\n",
       "      <th>187</th>\n",
       "      <td>Singapore</td>\n",
       "      <td>8358</td>\n",
       "    </tr>\n",
       "  </tbody>\n",
       "</table>\n",
       "</div>"
      ],
      "text/plain": [
       "       country  density\n",
       "136     Monaco    26337\n",
       "121      Macao    21645\n",
       "187  Singapore     8358"
      ]
     },
     "execution_count": 498,
     "metadata": {},
     "output_type": "execute_result"
    }
   ],
   "source": [
    "# grouping country and density column\n",
    "sd=df2[[\"country\", \"density\"]].groupby(['country'], as_index=False).sum().sort_values(by='density', ascending=False)\n",
    "sd.head(3)"
   ]
  },
  {
   "cell_type": "markdown",
   "id": "32440f0e",
   "metadata": {},
   "source": [
    "# country with highest fertility rate"
   ]
  },
  {
   "cell_type": "code",
   "execution_count": 436,
   "id": "d2b2a24a",
   "metadata": {},
   "outputs": [
    {
     "data": {
      "text/html": [
       "<div>\n",
       "<style scoped>\n",
       "    .dataframe tbody tr th:only-of-type {\n",
       "        vertical-align: middle;\n",
       "    }\n",
       "\n",
       "    .dataframe tbody tr th {\n",
       "        vertical-align: top;\n",
       "    }\n",
       "\n",
       "    .dataframe thead th {\n",
       "        text-align: right;\n",
       "    }\n",
       "</style>\n",
       "<table border=\"1\" class=\"dataframe\">\n",
       "  <thead>\n",
       "    <tr style=\"text-align: right;\">\n",
       "      <th></th>\n",
       "      <th>country</th>\n",
       "      <th>Fert_rate</th>\n",
       "    </tr>\n",
       "  </thead>\n",
       "  <tbody>\n",
       "    <tr>\n",
       "      <th>150</th>\n",
       "      <td>Niger</td>\n",
       "      <td>7.0</td>\n",
       "    </tr>\n",
       "  </tbody>\n",
       "</table>\n",
       "</div>"
      ],
      "text/plain": [
       "    country  Fert_rate\n",
       "150   Niger        7.0"
      ]
     },
     "execution_count": 436,
     "metadata": {},
     "output_type": "execute_result"
    }
   ],
   "source": [
    "\n",
    "sd=df2[[\"country\", \"Fert_rate\"]].groupby(['country'], as_index=False).max().sort_values(by='Fert_rate', ascending=False)\n",
    "sd.head(1)"
   ]
  },
  {
   "cell_type": "markdown",
   "id": "019fe6dc",
   "metadata": {},
   "source": [
    "# country with lowest fertility rate"
   ]
  },
  {
   "cell_type": "code",
   "execution_count": 437,
   "id": "bc8fbeb1",
   "metadata": {},
   "outputs": [
    {
     "data": {
      "text/html": [
       "<div>\n",
       "<style scoped>\n",
       "    .dataframe tbody tr th:only-of-type {\n",
       "        vertical-align: middle;\n",
       "    }\n",
       "\n",
       "    .dataframe tbody tr th {\n",
       "        vertical-align: top;\n",
       "    }\n",
       "\n",
       "    .dataframe thead th {\n",
       "        text-align: right;\n",
       "    }\n",
       "</style>\n",
       "<table border=\"1\" class=\"dataframe\">\n",
       "  <thead>\n",
       "    <tr style=\"text-align: right;\">\n",
       "      <th></th>\n",
       "      <th>country</th>\n",
       "      <th>Fert_rate</th>\n",
       "    </tr>\n",
       "  </thead>\n",
       "  <tbody>\n",
       "    <tr>\n",
       "      <th>194</th>\n",
       "      <td>South Korea</td>\n",
       "      <td>1.1</td>\n",
       "    </tr>\n",
       "  </tbody>\n",
       "</table>\n",
       "</div>"
      ],
      "text/plain": [
       "         country  Fert_rate\n",
       "194  South Korea        1.1"
      ]
     },
     "execution_count": 437,
     "metadata": {},
     "output_type": "execute_result"
    }
   ],
   "source": [
    "sd=df2[[\"country\", \"Fert_rate\"]].groupby(['country'], as_index=False).min().sort_values(by='Fert_rate', ascending=True)\n",
    "sd.head(1)"
   ]
  },
  {
   "cell_type": "markdown",
   "id": "88a7b0b8",
   "metadata": {},
   "source": [
    "# examine the distribution of Population column"
   ]
  },
  {
   "cell_type": "code",
   "execution_count": 443,
   "id": "0e44f2a0",
   "metadata": {},
   "outputs": [
    {
     "data": {
      "text/plain": [
       "<matplotlib.legend.Legend at 0x2681b9abd60>"
      ]
     },
     "execution_count": 443,
     "metadata": {},
     "output_type": "execute_result"
    },
    {
     "data": {
      "image/png": "[encoded data removed]",
      "text/plain": [
       "<Figure size 432x288 with 1 Axes>"
      ]
     },
     "metadata": {
      "needs_background": "light"
     },
     "output_type": "display_data"
    }
   ],
   "source": [
    "# creating hist plot to examin\n",
    "sns.histplot(data= df2[\"Population\"],kde=True)\n",
    "plt.axvline(x=df2[\"Population\"].mean(),color='red',alpha=0.5,label='Mean') # examine mean value\n",
    "plt.axvline(x=df2[\"Population\"].median(),c='blue',ls='--',alpha=0.5,label='Median') # examine median value\n",
    "plt.legend()"
   ]
  },
  {
   "cell_type": "code",
   "execution_count": 444,
   "id": "38cc8e57",
   "metadata": {},
   "outputs": [
    {
     "data": {
      "text/plain": [
       "9.22957208791679"
      ]
     },
     "execution_count": 444,
     "metadata": {},
     "output_type": "execute_result"
    }
   ],
   "source": [
    "df2[\"Population\"].skew()"
   ]
  },
  {
   "cell_type": "markdown",
   "id": "0f124df1",
   "metadata": {},
   "source": [
    "## distribution of Population column is right skewed "
   ]
  },
  {
   "cell_type": "markdown",
   "id": "f1b52b62",
   "metadata": {},
   "source": [
    "# examine the distribution of Med-age column"
   ]
  },
  {
   "cell_type": "code",
   "execution_count": 499,
   "id": "5672d340",
   "metadata": {},
   "outputs": [
    {
     "data": {
      "text/plain": [
       "<matplotlib.legend.Legend at 0x2681bd2e2e0>"
      ]
     },
     "execution_count": 499,
     "metadata": {},
     "output_type": "execute_result"
    },
    {
     "data": {
      "image/png": "[encoded data removed]",
      "text/plain": [
       "<Figure size 432x288 with 1 Axes>"
      ]
     },
     "metadata": {
      "needs_background": "light"
     },
     "output_type": "display_data"
    }
   ],
   "source": [
    "#creating histplot to examin\n",
    "sns.histplot(data= df2[\"Med_age\"],kde=True)\n",
    "plt.axvline(x=df2[\"Med_age\"].mean(),color='red',alpha=0.5,label='Mean') # examine mean value\n",
    "plt.axvline(x=df2[\"Med_age\"].median(),c='blue',ls='--',alpha=0.5,label='Median') # examine median value\n",
    "plt.legend()"
   ]
  },
  {
   "cell_type": "code",
   "execution_count": 439,
   "id": "21daf3b2",
   "metadata": {},
   "outputs": [
    {
     "data": {
      "text/plain": [
       "0.10846046956111798"
      ]
     },
     "execution_count": 439,
     "metadata": {},
     "output_type": "execute_result"
    }
   ],
   "source": [
    "df2[\"Med_age\"].skew()"
   ]
  },
  {
   "cell_type": "markdown",
   "id": "2ded83e6",
   "metadata": {},
   "source": [
    "## distribution of Med-age column seems like normally distributed"
   ]
  },
  {
   "cell_type": "markdown",
   "id": "40edc0ab",
   "metadata": {},
   "source": [
    "# examine the distribution of Urban_pop column"
   ]
  },
  {
   "cell_type": "code",
   "execution_count": 440,
   "id": "9d507bc6",
   "metadata": {},
   "outputs": [
    {
     "data": {
      "text/plain": [
       "<matplotlib.legend.Legend at 0x2681b5e8eb0>"
      ]
     },
     "execution_count": 440,
     "metadata": {},
     "output_type": "execute_result"
    },
    {
     "data": {
      "image/png": "[encoded data removed]",
      "text/plain": [
       "<Figure size 432x288 with 1 Axes>"
      ]
     },
     "metadata": {
      "needs_background": "light"
     },
     "output_type": "display_data"
    }
   ],
   "source": [
    "#creating histplot to examin\n",
    "sns.histplot(data= df2[\"Urban_pop\"],kde=True)\n",
    "plt.axvline(x=df2[\"Urban_pop\"].mean(),color='red',alpha=0.5,label='Mean') # examine mean value\n",
    "plt.axvline(x=df2[\"Urban_pop\"].median(),c='blue',ls='--',alpha=0.5,label='Median') # examine median value\n",
    "plt.legend()"
   ]
  },
  {
   "cell_type": "code",
   "execution_count": 442,
   "id": "f35fbdb0",
   "metadata": {},
   "outputs": [
    {
     "data": {
      "text/plain": [
       "-0.36411326135691713"
      ]
     },
     "execution_count": 442,
     "metadata": {},
     "output_type": "execute_result"
    }
   ],
   "source": [
    "df2[\"Urban_pop\"].skew()"
   ]
  },
  {
   "cell_type": "markdown",
   "id": "3ab53b07",
   "metadata": {},
   "source": [
    "## distribution of urban pop column is left skewed"
   ]
  },
  {
   "cell_type": "markdown",
   "id": "98e8b725",
   "metadata": {},
   "source": [
    "# examine the distribution of yearly_change column"
   ]
  },
  {
   "cell_type": "code",
   "execution_count": 500,
   "id": "91636c28",
   "metadata": {},
   "outputs": [
    {
     "data": {
      "text/plain": [
       "<matplotlib.legend.Legend at 0x26815f6e1c0>"
      ]
     },
     "execution_count": 500,
     "metadata": {},
     "output_type": "execute_result"
    },
    {
     "data": {
      "image/png": "[encoded data removed]",
      "text/plain": [
       "<Figure size 432x288 with 1 Axes>"
      ]
     },
     "metadata": {
      "needs_background": "light"
     },
     "output_type": "display_data"
    }
   ],
   "source": [
    "# examin by creating histplot\n",
    "sns.histplot(data= df2[\"yearly_change\"],kde=True)\n",
    "plt.axvline(x=df2[\"yearly_change\"].mean(),color='red',alpha=0.5,label='Mean') # examine mean value\n",
    "plt.axvline(x=df2[\"yearly_change\"].median(),c='blue',ls='--',alpha=0.5,label='Median') # examine median value\n",
    "plt.legend()"
   ]
  },
  {
   "cell_type": "code",
   "execution_count": 446,
   "id": "69b8250b",
   "metadata": {},
   "outputs": [
    {
     "data": {
      "text/plain": [
       "0.1584307601677353"
      ]
     },
     "execution_count": 446,
     "metadata": {},
     "output_type": "execute_result"
    }
   ],
   "source": [
    "df2[\"yearly_change\"].skew()"
   ]
  },
  {
   "cell_type": "markdown",
   "id": "a2122b72",
   "metadata": {},
   "source": [
    "## distribution of yearly_change column seems like normally distributed"
   ]
  },
  {
   "cell_type": "markdown",
   "id": "f02b2542",
   "metadata": {},
   "source": [
    "# sorting the population column based on lowest populated countries."
   ]
  },
  {
   "cell_type": "code",
   "execution_count": 501,
   "id": "dedc44a0",
   "metadata": {},
   "outputs": [
    {
     "data": {
      "text/html": [
       "<div>\n",
       "<style scoped>\n",
       "    .dataframe tbody tr th:only-of-type {\n",
       "        vertical-align: middle;\n",
       "    }\n",
       "\n",
       "    .dataframe tbody tr th {\n",
       "        vertical-align: top;\n",
       "    }\n",
       "\n",
       "    .dataframe thead th {\n",
       "        text-align: right;\n",
       "    }\n",
       "</style>\n",
       "<table border=\"1\" class=\"dataframe\">\n",
       "  <thead>\n",
       "    <tr style=\"text-align: right;\">\n",
       "      <th></th>\n",
       "      <th>country</th>\n",
       "      <th>Population</th>\n",
       "    </tr>\n",
       "  </thead>\n",
       "  <tbody>\n",
       "    <tr>\n",
       "      <th>91</th>\n",
       "      <td>Holy See</td>\n",
       "      <td>801</td>\n",
       "    </tr>\n",
       "    <tr>\n",
       "      <th>211</th>\n",
       "      <td>Tokelau</td>\n",
       "      <td>1357</td>\n",
       "    </tr>\n",
       "    <tr>\n",
       "      <th>152</th>\n",
       "      <td>Niue</td>\n",
       "      <td>1626</td>\n",
       "    </tr>\n",
       "    <tr>\n",
       "      <th>69</th>\n",
       "      <td>Falkland Islands</td>\n",
       "      <td>3480</td>\n",
       "    </tr>\n",
       "    <tr>\n",
       "      <th>139</th>\n",
       "      <td>Montserrat</td>\n",
       "      <td>4992</td>\n",
       "    </tr>\n",
       "    <tr>\n",
       "      <th>...</th>\n",
       "      <td>...</td>\n",
       "      <td>...</td>\n",
       "    </tr>\n",
       "    <tr>\n",
       "      <th>158</th>\n",
       "      <td>Pakistan</td>\n",
       "      <td>220892340</td>\n",
       "    </tr>\n",
       "    <tr>\n",
       "      <th>97</th>\n",
       "      <td>Indonesia</td>\n",
       "      <td>273523615</td>\n",
       "    </tr>\n",
       "    <tr>\n",
       "      <th>224</th>\n",
       "      <td>United States</td>\n",
       "      <td>331002651</td>\n",
       "    </tr>\n",
       "    <tr>\n",
       "      <th>96</th>\n",
       "      <td>India</td>\n",
       "      <td>1380004385</td>\n",
       "    </tr>\n",
       "    <tr>\n",
       "      <th>43</th>\n",
       "      <td>China</td>\n",
       "      <td>1439323776</td>\n",
       "    </tr>\n",
       "  </tbody>\n",
       "</table>\n",
       "<p>235 rows × 2 columns</p>\n",
       "</div>"
      ],
      "text/plain": [
       "              country  Population\n",
       "91           Holy See         801\n",
       "211           Tokelau        1357\n",
       "152              Niue        1626\n",
       "69   Falkland Islands        3480\n",
       "139        Montserrat        4992\n",
       "..                ...         ...\n",
       "158          Pakistan   220892340\n",
       "97          Indonesia   273523615\n",
       "224     United States   331002651\n",
       "96              India  1380004385\n",
       "43              China  1439323776\n",
       "\n",
       "[235 rows x 2 columns]"
      ]
     },
     "execution_count": 501,
     "metadata": {},
     "output_type": "execute_result"
    }
   ],
   "source": [
    "# sorting by grouping country and population\n",
    "sd=df2[[\"country\", \"Population\"]].groupby(['country'], as_index=False).sum().sort_values(by='Population', ascending=True)\n",
    "sd"
   ]
  },
  {
   "cell_type": "code",
   "execution_count": 502,
   "id": "b6745616",
   "metadata": {},
   "outputs": [
    {
     "data": {
      "text/html": [
       "<div>\n",
       "<style scoped>\n",
       "    .dataframe tbody tr th:only-of-type {\n",
       "        vertical-align: middle;\n",
       "    }\n",
       "\n",
       "    .dataframe tbody tr th {\n",
       "        vertical-align: top;\n",
       "    }\n",
       "\n",
       "    .dataframe thead th {\n",
       "        text-align: right;\n",
       "    }\n",
       "</style>\n",
       "<table border=\"1\" class=\"dataframe\">\n",
       "  <thead>\n",
       "    <tr style=\"text-align: right;\">\n",
       "      <th></th>\n",
       "      <th>country</th>\n",
       "      <th>Population</th>\n",
       "      <th>yearly_change</th>\n",
       "      <th>Net_change</th>\n",
       "      <th>density</th>\n",
       "      <th>Land_area</th>\n",
       "      <th>migrants</th>\n",
       "      <th>Fert_rate</th>\n",
       "      <th>Med_age</th>\n",
       "      <th>Urban_pop</th>\n",
       "      <th>World_share</th>\n",
       "    </tr>\n",
       "  </thead>\n",
       "  <tbody>\n",
       "    <tr>\n",
       "      <th>235</th>\n",
       "      <td>Holy See</td>\n",
       "      <td>801</td>\n",
       "      <td>0.25</td>\n",
       "      <td>2</td>\n",
       "      <td>2003</td>\n",
       "      <td>0</td>\n",
       "      <td>NaN</td>\n",
       "      <td>NaN</td>\n",
       "      <td>NaN</td>\n",
       "      <td>NaN</td>\n",
       "      <td>0.00</td>\n",
       "    </tr>\n",
       "    <tr>\n",
       "      <th>234</th>\n",
       "      <td>Tokelau</td>\n",
       "      <td>1357</td>\n",
       "      <td>1.27</td>\n",
       "      <td>17</td>\n",
       "      <td>136</td>\n",
       "      <td>10</td>\n",
       "      <td>NaN</td>\n",
       "      <td>NaN</td>\n",
       "      <td>NaN</td>\n",
       "      <td>0.0</td>\n",
       "      <td>0.00</td>\n",
       "    </tr>\n",
       "    <tr>\n",
       "      <th>233</th>\n",
       "      <td>Niue</td>\n",
       "      <td>1626</td>\n",
       "      <td>0.68</td>\n",
       "      <td>11</td>\n",
       "      <td>6</td>\n",
       "      <td>260</td>\n",
       "      <td>NaN</td>\n",
       "      <td>NaN</td>\n",
       "      <td>NaN</td>\n",
       "      <td>46.0</td>\n",
       "      <td>0.00</td>\n",
       "    </tr>\n",
       "    <tr>\n",
       "      <th>232</th>\n",
       "      <td>Falkland Islands</td>\n",
       "      <td>3480</td>\n",
       "      <td>3.05</td>\n",
       "      <td>103</td>\n",
       "      <td>0</td>\n",
       "      <td>12170</td>\n",
       "      <td>NaN</td>\n",
       "      <td>NaN</td>\n",
       "      <td>NaN</td>\n",
       "      <td>66.0</td>\n",
       "      <td>0.00</td>\n",
       "    </tr>\n",
       "    <tr>\n",
       "      <th>231</th>\n",
       "      <td>Montserrat</td>\n",
       "      <td>4992</td>\n",
       "      <td>0.06</td>\n",
       "      <td>3</td>\n",
       "      <td>50</td>\n",
       "      <td>100</td>\n",
       "      <td>NaN</td>\n",
       "      <td>NaN</td>\n",
       "      <td>NaN</td>\n",
       "      <td>10.0</td>\n",
       "      <td>0.00</td>\n",
       "    </tr>\n",
       "    <tr>\n",
       "      <th>...</th>\n",
       "      <td>...</td>\n",
       "      <td>...</td>\n",
       "      <td>...</td>\n",
       "      <td>...</td>\n",
       "      <td>...</td>\n",
       "      <td>...</td>\n",
       "      <td>...</td>\n",
       "      <td>...</td>\n",
       "      <td>...</td>\n",
       "      <td>...</td>\n",
       "      <td>...</td>\n",
       "    </tr>\n",
       "    <tr>\n",
       "      <th>5</th>\n",
       "      <td>Pakistan</td>\n",
       "      <td>220892340</td>\n",
       "      <td>2.00</td>\n",
       "      <td>4327022</td>\n",
       "      <td>287</td>\n",
       "      <td>770880</td>\n",
       "      <td>-233379.0</td>\n",
       "      <td>3.6</td>\n",
       "      <td>23.0</td>\n",
       "      <td>35.0</td>\n",
       "      <td>2.83</td>\n",
       "    </tr>\n",
       "    <tr>\n",
       "      <th>4</th>\n",
       "      <td>Indonesia</td>\n",
       "      <td>273523615</td>\n",
       "      <td>1.07</td>\n",
       "      <td>2898047</td>\n",
       "      <td>151</td>\n",
       "      <td>1811570</td>\n",
       "      <td>-98955.0</td>\n",
       "      <td>2.3</td>\n",
       "      <td>30.0</td>\n",
       "      <td>56.0</td>\n",
       "      <td>3.51</td>\n",
       "    </tr>\n",
       "    <tr>\n",
       "      <th>3</th>\n",
       "      <td>United States</td>\n",
       "      <td>331002651</td>\n",
       "      <td>0.59</td>\n",
       "      <td>1937734</td>\n",
       "      <td>36</td>\n",
       "      <td>9147420</td>\n",
       "      <td>954806.0</td>\n",
       "      <td>1.8</td>\n",
       "      <td>38.0</td>\n",
       "      <td>83.0</td>\n",
       "      <td>4.25</td>\n",
       "    </tr>\n",
       "    <tr>\n",
       "      <th>2</th>\n",
       "      <td>India</td>\n",
       "      <td>1380004385</td>\n",
       "      <td>0.99</td>\n",
       "      <td>13586631</td>\n",
       "      <td>464</td>\n",
       "      <td>2973190</td>\n",
       "      <td>-532687.0</td>\n",
       "      <td>2.2</td>\n",
       "      <td>28.0</td>\n",
       "      <td>35.0</td>\n",
       "      <td>17.70</td>\n",
       "    </tr>\n",
       "    <tr>\n",
       "      <th>1</th>\n",
       "      <td>China</td>\n",
       "      <td>1439323776</td>\n",
       "      <td>0.39</td>\n",
       "      <td>5540090</td>\n",
       "      <td>153</td>\n",
       "      <td>9388211</td>\n",
       "      <td>-348399.0</td>\n",
       "      <td>1.7</td>\n",
       "      <td>38.0</td>\n",
       "      <td>61.0</td>\n",
       "      <td>18.47</td>\n",
       "    </tr>\n",
       "  </tbody>\n",
       "</table>\n",
       "<p>235 rows × 11 columns</p>\n",
       "</div>"
      ],
      "text/plain": [
       "              country  Population  yearly_change  Net_change  density  \\\n",
       "235          Holy See         801           0.25           2     2003   \n",
       "234           Tokelau        1357           1.27          17      136   \n",
       "233              Niue        1626           0.68          11        6   \n",
       "232  Falkland Islands        3480           3.05         103        0   \n",
       "231        Montserrat        4992           0.06           3       50   \n",
       "..                ...         ...            ...         ...      ...   \n",
       "5            Pakistan   220892340           2.00     4327022      287   \n",
       "4           Indonesia   273523615           1.07     2898047      151   \n",
       "3       United States   331002651           0.59     1937734       36   \n",
       "2               India  1380004385           0.99    13586631      464   \n",
       "1               China  1439323776           0.39     5540090      153   \n",
       "\n",
       "     Land_area  migrants  Fert_rate  Med_age  Urban_pop  World_share  \n",
       "235          0       NaN        NaN      NaN        NaN         0.00  \n",
       "234         10       NaN        NaN      NaN        0.0         0.00  \n",
       "233        260       NaN        NaN      NaN       46.0         0.00  \n",
       "232      12170       NaN        NaN      NaN       66.0         0.00  \n",
       "231        100       NaN        NaN      NaN       10.0         0.00  \n",
       "..         ...       ...        ...      ...        ...          ...  \n",
       "5       770880 -233379.0        3.6     23.0       35.0         2.83  \n",
       "4      1811570  -98955.0        2.3     30.0       56.0         3.51  \n",
       "3      9147420  954806.0        1.8     38.0       83.0         4.25  \n",
       "2      2973190 -532687.0        2.2     28.0       35.0        17.70  \n",
       "1      9388211 -348399.0        1.7     38.0       61.0        18.47  \n",
       "\n",
       "[235 rows x 11 columns]"
      ]
     },
     "execution_count": 502,
     "metadata": {},
     "output_type": "execute_result"
    }
   ],
   "source": [
    "# sorting population column refers to whole dataset\n",
    "df2.sort_values( by=\"Population\",\n",
    "    ascending=True,\n",
    "     kind=\"mergesort\"\n",
    ")"
   ]
  },
  {
   "cell_type": "code",
   "execution_count": 455,
   "id": "9f8e8a8b",
   "metadata": {},
   "outputs": [],
   "source": [
    "# downloading scraped dataset as excel format\n",
    "df.to_excel(r'C:/Users/Chinmay/Downloads/Untitled9.xlsx', index = False)"
   ]
  },
  {
   "cell_type": "code",
   "execution_count": null,
   "id": "3529e798",
   "metadata": {},
   "outputs": [],
   "source": []
  }
 ],
 "metadata": {
  "kernelspec": {
   "display_name": "Python 3",
   "language": "python",
   "name": "python3"
  },
  "language_info": {
   "codemirror_mode": {
    "name": "ipython",
    "version": 3
   },
   "file_extension": ".py",
   "mimetype": "text/x-python",
   "name": "python",
   "nbconvert_exporter": "python",
   "pygments_lexer": "ipython3",
   "version": "3.8.8"
  }
 },
 "nbformat": 4,
 "nbformat_minor": 5
}
